{
 "cells": [
  {
   "cell_type": "markdown",
   "metadata": {},
   "source": [
    "I have the objective function to minimize:\n",
    "\n",
    "$$\n",
    "\\min_{\\Gamma, F_t} \\sum_{i,t} (Y_{i,t} - X_{i,t} \\Gamma F_t)^2 . \\quad \\forall i \\in N_{co}, \\forall t \\in T\n",
    "$$\n",
    "\n",
    "After estimating $F_t$ correctly I will need to esimate $\\Gamma$, explain to me if the following equation can correctly estimate $\\Gamma$ and explain to me why\n",
    "\n",
    "$$\n",
    "\\hat{\\gamma} = \\left( \\sum_{i,t} (X_{i,t}' \\otimes \\hat{F}_t) (X_{i,t} \\otimes \\hat{F}_t') \\right)^{-1} \\left( \\sum_{i,t} (X_{i,t}' \\otimes \\hat{F}_t) Y_{i,t} \\right)\n",
    "$$\n"
   ]
  },
  {
   "cell_type": "code",
   "execution_count": 1,
   "metadata": {},
   "outputs": [
    {
     "data": {
      "text/html": [
       "<svg  width=\"550\" height=\"55\"><rect x=\"0\" y=\"0\" width=\"55\" height=\"55\" style=\"fill:#1f77b4;stroke-width:2;stroke:rgb(255,255,255)\"/><rect x=\"55\" y=\"0\" width=\"55\" height=\"55\" style=\"fill:#ff7f0e;stroke-width:2;stroke:rgb(255,255,255)\"/><rect x=\"110\" y=\"0\" width=\"55\" height=\"55\" style=\"fill:#2ca02c;stroke-width:2;stroke:rgb(255,255,255)\"/><rect x=\"165\" y=\"0\" width=\"55\" height=\"55\" style=\"fill:#d62728;stroke-width:2;stroke:rgb(255,255,255)\"/><rect x=\"220\" y=\"0\" width=\"55\" height=\"55\" style=\"fill:#9467bd;stroke-width:2;stroke:rgb(255,255,255)\"/><rect x=\"275\" y=\"0\" width=\"55\" height=\"55\" style=\"fill:#8c564b;stroke-width:2;stroke:rgb(255,255,255)\"/><rect x=\"330\" y=\"0\" width=\"55\" height=\"55\" style=\"fill:#e377c2;stroke-width:2;stroke:rgb(255,255,255)\"/><rect x=\"385\" y=\"0\" width=\"55\" height=\"55\" style=\"fill:#7f7f7f;stroke-width:2;stroke:rgb(255,255,255)\"/><rect x=\"440\" y=\"0\" width=\"55\" height=\"55\" style=\"fill:#bcbd22;stroke-width:2;stroke:rgb(255,255,255)\"/><rect x=\"495\" y=\"0\" width=\"55\" height=\"55\" style=\"fill:#17becf;stroke-width:2;stroke:rgb(255,255,255)\"/></svg>"
      ],
      "text/plain": [
       "[(0.12156862745098039, 0.4666666666666667, 0.7058823529411765),\n",
       " (1.0, 0.4980392156862745, 0.054901960784313725),\n",
       " (0.17254901960784313, 0.6274509803921569, 0.17254901960784313),\n",
       " (0.8392156862745098, 0.15294117647058825, 0.1568627450980392),\n",
       " (0.5803921568627451, 0.403921568627451, 0.7411764705882353),\n",
       " (0.5490196078431373, 0.33725490196078434, 0.29411764705882354),\n",
       " (0.8901960784313725, 0.4666666666666667, 0.7607843137254902),\n",
       " (0.4980392156862745, 0.4980392156862745, 0.4980392156862745),\n",
       " (0.7372549019607844, 0.7411764705882353, 0.13333333333333333),\n",
       " (0.09019607843137255, 0.7450980392156863, 0.8117647058823529)]"
      ]
     },
     "execution_count": 1,
     "metadata": {},
     "output_type": "execute_result"
    }
   ],
   "source": [
    "import pandas as pd\n",
    "import numpy as np\n",
    "import scipy.linalg as sla\n",
    "import scipy.sparse.linalg as ssla\n",
    "\n",
    "import matplotlib.pyplot as plt\n",
    "import seaborn as sns\n",
    "\n",
    "from src.data_gen import data_gen, data_gen_xu\n",
    "\n",
    "# Set the global font to be Times New Roman\n",
    "import matplotlib as mpl\n",
    "mpl.rcParams['font.family'] = 'Times New Roman'\n",
    "mpl.rcParams['font.size'] = 8 \n",
    "colors = sns.color_palette()\n",
    "colors"
   ]
  },
  {
   "cell_type": "code",
   "execution_count": 2,
   "metadata": {},
   "outputs": [],
   "source": [
    "# matrix left/right division (following MATLAB function naming)\n",
    "_mldivide = lambda denom, numer: sla.lstsq(np.array(denom), np.array(numer))[0]\n",
    "_mrdivide = lambda numer, denom: (sla.lstsq(np.array(denom).T, np.array(numer).T)[0]).T"
   ]
  },
  {
   "cell_type": "code",
   "execution_count": 3,
   "metadata": {},
   "outputs": [],
   "source": [
    "# Number of factors and time periods\n",
    "K = 3\n",
    "T0 = 20\n",
    "T1 = 10\n",
    "# number of total covariates\n",
    "L = 10\n",
    "# Number of control and treated units\n",
    "\n",
    "N_co = 45\n",
    "N_tr = 5\n",
    "# drift for treated units\n",
    "drift = 2\n",
    "# similarity parameter in Xu\n",
    "w = 0.8\n",
    "\n",
    "# random seed\n",
    "np.random.seed(39)\n",
    "# gen data with my data generating process\n",
    "df = data_gen(T0, T1, N_co, N_tr, L, K, drift)\n",
    "\n",
    "# gen data with Yiqing Xu data generating process\n",
    "#df = data_gen_xu(T0, T1, N_co, N_tr, L, K, w)"
   ]
  },
  {
   "cell_type": "code",
   "execution_count": 4,
   "metadata": {},
   "outputs": [],
   "source": [
    "# get a list of covariates\n",
    "covariates = df.columns[7:].values\n",
    "\n",
    "# build a function to prepare matrix\n",
    "def prepare_matrix(df, id, time, outcome, covariates):\n",
    "    Y = df.pivot(index=id, columns=time, values=outcome).values\n",
    "    X = np.array([df.pivot(index=id, columns=time, values=var).values for var in covariates]).transpose(1, 2, 0)\n",
    "    return Y, X\n",
    "\n",
    "# prepare matrix\n",
    "Y0, X0 = prepare_matrix(df.query(\"tr_group==0\"), 'id', 'time', 'y', covariates)"
   ]
  },
  {
   "cell_type": "code",
   "execution_count": 5,
   "metadata": {},
   "outputs": [],
   "source": [
    "# step a: initial guess\n",
    "svU, svS, svV = ssla.svds(Y0, K)\n",
    "svU, svS, svV = np.fliplr(svU), svS[::-1], np.flipud(svV) # reverse the order from largest to smallest\n",
    "# initial guess for F\n",
    "F0 = np.diag(svS) @ svV\n",
    "# initial value for Gama to be updated\n",
    "Gama0 = np.zeros((L, K))"
   ]
  },
  {
   "cell_type": "code",
   "execution_count": 6,
   "metadata": {},
   "outputs": [],
   "source": [
    "# K: number of factors\n",
    "K = 3\n",
    "# dimensions\n",
    "N, T, L = X0.shape\n",
    "\n",
    "vec_len = len(covariates)*K\n",
    "numer, denom = np.zeros(vec_len), np.zeros((vec_len, vec_len))\n",
    "for t in range(T):\n",
    "    for i in range(N_co):\n",
    "        X0_slice = X0[i, t, :] # X_it is Lx1 vector for each i and t\n",
    "        Ft_slice = F0[:, t] # F_t is Kx1 vector for each t\n",
    "        # compute kronecker product\n",
    "        kron_prod = np.kron(X0_slice, Ft_slice)\n",
    "        # update numer and denom\n",
    "        numer += kron_prod * Y0[i, t]\n",
    "        denom += np.outer(kron_prod, kron_prod)"
   ]
  },
  {
   "cell_type": "code",
   "execution_count": 70,
   "metadata": {},
   "outputs": [],
   "source": [
    "g = np.array([[2, 3, 4], [1, 2, 3]])\n",
    "f = np.array([1, 2, 3])\n",
    "c = np.diag(np.ones(3))"
   ]
  },
  {
   "cell_type": "code",
   "execution_count": 97,
   "metadata": {},
   "outputs": [],
   "source": [
    "x = np.random.random(10)\n",
    "g = np.random.random((10, 3))\n",
    "f = np.random.random(3)\n",
    "c = np.diag(np.ones(10))"
   ]
  },
  {
   "cell_type": "code",
   "execution_count": 94,
   "metadata": {},
   "outputs": [
    {
     "data": {
      "text/plain": [
       "(10, 30)"
      ]
     },
     "execution_count": 94,
     "metadata": {},
     "output_type": "execute_result"
    }
   ],
   "source": [
    "np.kron(c.T, f).shape"
   ]
  },
  {
   "cell_type": "code",
   "execution_count": 109,
   "metadata": {},
   "outputs": [
    {
     "data": {
      "text/plain": [
       "array([0.37979976, 0.28904617, 0.08169547, 0.33870505, 0.25777109,\n",
       "       0.07285593, 0.08812725, 0.06706914, 0.0189563 , 0.40072598,\n",
       "       0.30497205, 0.08619672, 0.3284057 , 0.24993278, 0.07064053,\n",
       "       0.0137441 , 0.01045993, 0.00295637, 0.11403223, 0.08678409,\n",
       "       0.02452849, 0.2255134 , 0.17162672, 0.04850825, 0.01048213,\n",
       "       0.00797742, 0.00225472, 0.32970427, 0.25092106, 0.07091985])"
      ]
     },
     "execution_count": 109,
     "metadata": {},
     "output_type": "execute_result"
    }
   ],
   "source": [
    "x@np.kron(c, f)"
   ]
  },
  {
   "cell_type": "code",
   "execution_count": 108,
   "metadata": {},
   "outputs": [
    {
     "data": {
      "text/plain": [
       "array([[0.61381257],\n",
       "       [0.22350772],\n",
       "       [0.53120186],\n",
       "       [0.45162385],\n",
       "       [0.5340127 ],\n",
       "       [0.45066043],\n",
       "       [0.71461781],\n",
       "       [0.57776424],\n",
       "       [0.37117391],\n",
       "       [0.35366928]])"
      ]
     },
     "execution_count": 108,
     "metadata": {},
     "output_type": "execute_result"
    }
   ],
   "source": [
    "np.kron(c, f) @ g.reshape(-1, 1)"
   ]
  },
  {
   "cell_type": "code",
   "execution_count": 107,
   "metadata": {},
   "outputs": [
    {
     "data": {
      "text/plain": [
       "2.187238408211067"
      ]
     },
     "execution_count": 107,
     "metadata": {},
     "output_type": "execute_result"
    }
   ],
   "source": [
    "x@g@f"
   ]
  },
  {
   "cell_type": "markdown",
   "metadata": {},
   "source": [
    "$$\n",
    " \\]\n",
    "$$"
   ]
  }
 ],
 "metadata": {
  "kernelspec": {
   "display_name": "gsc-ipca-env",
   "language": "python",
   "name": "python3"
  },
  "language_info": {
   "codemirror_mode": {
    "name": "ipython",
    "version": 3
   },
   "file_extension": ".py",
   "mimetype": "text/x-python",
   "name": "python",
   "nbconvert_exporter": "python",
   "pygments_lexer": "ipython3",
   "version": "3.12.1"
  }
 },
 "nbformat": 4,
 "nbformat_minor": 2
}
