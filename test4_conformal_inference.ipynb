{
 "cells": [
  {
   "cell_type": "code",
   "execution_count": 145,
   "metadata": {},
   "outputs": [
    {
     "data": {
      "text/html": [
       "<svg  width=\"550\" height=\"55\"><rect x=\"0\" y=\"0\" width=\"55\" height=\"55\" style=\"fill:#1f77b4;stroke-width:2;stroke:rgb(255,255,255)\"/><rect x=\"55\" y=\"0\" width=\"55\" height=\"55\" style=\"fill:#ff7f0e;stroke-width:2;stroke:rgb(255,255,255)\"/><rect x=\"110\" y=\"0\" width=\"55\" height=\"55\" style=\"fill:#2ca02c;stroke-width:2;stroke:rgb(255,255,255)\"/><rect x=\"165\" y=\"0\" width=\"55\" height=\"55\" style=\"fill:#d62728;stroke-width:2;stroke:rgb(255,255,255)\"/><rect x=\"220\" y=\"0\" width=\"55\" height=\"55\" style=\"fill:#9467bd;stroke-width:2;stroke:rgb(255,255,255)\"/><rect x=\"275\" y=\"0\" width=\"55\" height=\"55\" style=\"fill:#8c564b;stroke-width:2;stroke:rgb(255,255,255)\"/><rect x=\"330\" y=\"0\" width=\"55\" height=\"55\" style=\"fill:#e377c2;stroke-width:2;stroke:rgb(255,255,255)\"/><rect x=\"385\" y=\"0\" width=\"55\" height=\"55\" style=\"fill:#7f7f7f;stroke-width:2;stroke:rgb(255,255,255)\"/><rect x=\"440\" y=\"0\" width=\"55\" height=\"55\" style=\"fill:#bcbd22;stroke-width:2;stroke:rgb(255,255,255)\"/><rect x=\"495\" y=\"0\" width=\"55\" height=\"55\" style=\"fill:#17becf;stroke-width:2;stroke:rgb(255,255,255)\"/></svg>"
      ],
      "text/plain": [
       "[(0.12156862745098039, 0.4666666666666667, 0.7058823529411765),\n",
       " (1.0, 0.4980392156862745, 0.054901960784313725),\n",
       " (0.17254901960784313, 0.6274509803921569, 0.17254901960784313),\n",
       " (0.8392156862745098, 0.15294117647058825, 0.1568627450980392),\n",
       " (0.5803921568627451, 0.403921568627451, 0.7411764705882353),\n",
       " (0.5490196078431373, 0.33725490196078434, 0.29411764705882354),\n",
       " (0.8901960784313725, 0.4666666666666667, 0.7607843137254902),\n",
       " (0.4980392156862745, 0.4980392156862745, 0.4980392156862745),\n",
       " (0.7372549019607844, 0.7411764705882353, 0.13333333333333333),\n",
       " (0.09019607843137255, 0.7450980392156863, 0.8117647058823529)]"
      ]
     },
     "execution_count": 145,
     "metadata": {},
     "output_type": "execute_result"
    }
   ],
   "source": [
    "import pandas as pd\n",
    "import numpy as np\n",
    "import scipy.linalg as sla\n",
    "import scipy.sparse.linalg as ssla\n",
    "\n",
    "import matplotlib.pyplot as plt\n",
    "import seaborn as sns\n",
    "from src.data_gen import data_gen\n",
    "\n",
    "# Set the global font to be Times New Roman\n",
    "import matplotlib as mpl\n",
    "mpl.rcParams['font.family'] = 'Times New Roman'\n",
    "mpl.rcParams['font.size'] = 8 \n",
    "colors = sns.color_palette()\n",
    "colors"
   ]
  },
  {
   "cell_type": "code",
   "execution_count": 146,
   "metadata": {},
   "outputs": [],
   "source": [
    "# matrix left/right division (following MATLAB function naming)\n",
    "_mldivide = lambda denom, numer: sla.lstsq(np.array(denom), np.array(numer))[0]\n",
    "_mrdivide = lambda numer, denom: (sla.lstsq(np.array(denom).T, np.array(numer).T)[0]).T"
   ]
  },
  {
   "cell_type": "markdown",
   "metadata": {},
   "source": [
    "### 1. Generate the data"
   ]
  },
  {
   "cell_type": "code",
   "execution_count": 147,
   "metadata": {},
   "outputs": [],
   "source": [
    "# number of time periods and individuals\n",
    "T0, T1 = 20, 10\n",
    "N_co, N_tr = 45, 5\n",
    "\n",
    "# number of covariates and time-varying factors\n",
    "L, K = 10, 2\n",
    "# drift\n",
    "drift = 2\n",
    "\n",
    "np.random.seed(2)\n",
    "df = data_gen(T0=T0, T1=T1, N_co=N_co, N_tr=N_tr, L=L, K=K, drift=drift)\n",
    "# add a const to the original data\n",
    "df['const'] = 1"
   ]
  },
  {
   "cell_type": "markdown",
   "metadata": {},
   "source": [
    "### 2. Generate the data under the null"
   ]
  },
  {
   "cell_type": "code",
   "execution_count": 148,
   "metadata": {},
   "outputs": [],
   "source": [
    "# define a function to generate the null\n",
    "def under_null(df, null, treated):\n",
    "    data = df.copy()\n",
    "    y = np.where(data[treated]==1, data['y'] - null, data['y'])\n",
    "    return data.assign(**{'y': y})"
   ]
  },
  {
   "cell_type": "code",
   "execution_count": 149,
   "metadata": {},
   "outputs": [
    {
     "data": {
      "image/png": "[encoded data removed]",
      "text/plain": [
       "<Figure size 670x250 with 1 Axes>"
      ]
     },
     "metadata": {},
     "output_type": "display_data"
    }
   ],
   "source": [
    "# under the null = 0\n",
    "null_0 = under_null(df, 0, 'treated')\n",
    "# under the null = 5\n",
    "null_5 = under_null(df, 5, 'treated')\n",
    "\n",
    "plt.figure(figsize=(6.7, 2.5))\n",
    "# plot the generated data under different null hypothesis\n",
    "sns.lineplot(null_0.query(\"tr_group==1\").groupby('time').y.mean(), label='H0: 0')\n",
    "sns.lineplot(null_5.query(\"tr_group==1\").groupby('time').y.mean(), label='H0: 5')\n",
    "\n",
    "plt.axvline(x=df.query(\"post_period==0\").time.max(), linestyle='--', color='black')\n",
    "sns.despine()"
   ]
  },
  {
   "cell_type": "markdown",
   "metadata": {},
   "source": [
    "### 3. Fit the model use contorl data"
   ]
  },
  {
   "cell_type": "code",
   "execution_count": 150,
   "metadata": {},
   "outputs": [],
   "source": [
    "# define a function to transform matrix\n",
    "def _prepare_matrix(df, covariates):\n",
    "    Y = df.pivot(index='id', columns='time', values='y').values\n",
    "    X = np.array([df.pivot(index='id', columns='time', values=x) for x in covariates]).transpose(1, 2, 0)\n",
    "    return Y, X"
   ]
  },
  {
   "cell_type": "code",
   "execution_count": 151,
   "metadata": {},
   "outputs": [],
   "source": [
    "# add constant\n",
    "null_5['const'] = 1\n",
    "# gen covariates\n",
    "covariates = ['const'] + [f'x{i+1}' for i in range(L)]\n",
    "\n",
    "# use all the data to compute F and Gama\n",
    "Y, X = _prepare_matrix(null_5, covariates)"
   ]
  },
  {
   "cell_type": "code",
   "execution_count": 152,
   "metadata": {},
   "outputs": [],
   "source": [
    "# define a function to conduct ALS estimation\n",
    "def als_est(X, Y, K, F0):\n",
    "    N, T, L = X.shape\n",
    "    # with F fixed, estimate Gama\n",
    "    vec_len = L*K\n",
    "    numer, denom = np.zeros(vec_len), np.zeros((vec_len, vec_len))\n",
    "    for t in range(T):\n",
    "        for i in range(N):\n",
    "            # slice X and F\n",
    "            X_slice = X[i, t, :]\n",
    "            F_slice = F0[:, t]\n",
    "            # compute kronecker product\n",
    "            kron_prod = np.kron(X_slice, F_slice)\n",
    "            # update numer and denom\n",
    "            numer += kron_prod * Y[i, t]\n",
    "            denom += np.outer(kron_prod, kron_prod)\n",
    "    # solve for Gama\n",
    "    Gama1 = _mldivide(denom, numer).reshape(L, K)\n",
    "\n",
    "    # with Gama fixed, estimate F\n",
    "    F1 = np.zeros((K, T))\n",
    "    for t in range(T):\n",
    "        denom = Gama1.T@X[:,t,:].T@X[:,t,:]@Gama1\n",
    "        numer = Gama1.T@X[:,t,:].T@Y[:,t]\n",
    "        F1[:, t] = _mldivide(denom, numer)\n",
    "    return Gama1, F1"
   ]
  },
  {
   "cell_type": "code",
   "execution_count": 153,
   "metadata": {},
   "outputs": [],
   "source": [
    "# define a function to compute F and Gama\n",
    "def update_parameter(Y, X, K, MaxIter=100, MinTol=1e-6, verbose=True):\n",
    "    _, _, L = X.shape\n",
    "    # initial guess\n",
    "    svU, svS, svV = ssla.svds(Y, K)\n",
    "    svU, svS, svV = np.fliplr(svU), svS[::-1], np.flipud(svV)\n",
    "    # initial guess for F\n",
    "    F0 = np.diag(svS) @ svV\n",
    "    # initial guess for Gama\n",
    "    Gama0 = np.zeros((L, K))\n",
    "\n",
    "    # iteratively update F and Gama\n",
    "    tol, iter = float('inf'), 0\n",
    "    while tol > MinTol and iter < MaxIter:\n",
    "        Gama1, F1 = als_est(X, Y, K, F0)\n",
    "        tol_Gama = abs(Gama1 - Gama0).max()\n",
    "        tol_F = abs(F1 - F0).max() \n",
    "        tol = max(tol_Gama, tol_F)\n",
    "        if verbose:\n",
    "            print(f'iter: {iter}, tol_Gama: {tol_Gama}, tol_F: {tol_F}')\n",
    "        F0, Gama0 = F1, Gama1\n",
    "        iter += 1\n",
    "    return F1, Gama1"
   ]
  },
  {
   "cell_type": "code",
   "execution_count": 154,
   "metadata": {},
   "outputs": [],
   "source": [
    "# compute F and Gama with \n",
    "F1, Gama1 = update_parameter(Y, X, K, verbose=False)"
   ]
  },
  {
   "cell_type": "markdown",
   "metadata": {},
   "source": [
    "### 4. Estimate Gama with treated units for whole time period (Main difference with estimation)"
   ]
  },
  {
   "cell_type": "code",
   "execution_count": 155,
   "metadata": {},
   "outputs": [],
   "source": [
    "# gen Y, X for treated units all period\n",
    "Y1, X1 = _prepare_matrix(null_5.query(\"tr_group==1\"), covariates)"
   ]
  },
  {
   "cell_type": "code",
   "execution_count": 156,
   "metadata": {},
   "outputs": [],
   "source": [
    "# define a function to compute Gama for treated units\n",
    "def estimate_gama(Y, X, F1):\n",
    "    N, T, L = X.shape\n",
    "    # with F fixed, estimate Gama\n",
    "    vec_len = L*K\n",
    "    numer, denom = np.zeros(vec_len), np.zeros((vec_len, vec_len))\n",
    "    for t in range(T):\n",
    "        for i in range(N):\n",
    "            X_slice = X[i, t, :]\n",
    "            F_slice = F1[:, t]\n",
    "            kron_prod = np.kron(X_slice, F_slice)\n",
    "            # update numer and denom\n",
    "            numer += kron_prod * Y[i, t]\n",
    "            denom += np.outer(kron_prod, kron_prod)\n",
    "    # solve for Gama\n",
    "    Gama1 = _mldivide(denom, numer).reshape(L, K)\n",
    "    return Gama1"
   ]
  },
  {
   "cell_type": "code",
   "execution_count": 157,
   "metadata": {},
   "outputs": [
    {
     "data": {
      "text/plain": [
       "array([[-0.03317573, -0.01823316],\n",
       "       [ 0.00193743,  0.00590686],\n",
       "       [-0.00312462,  0.00316769],\n",
       "       [-0.01925803,  0.00248873],\n",
       "       [-0.01609179,  0.00020853],\n",
       "       [-0.02173011, -0.00154236],\n",
       "       [-0.02295241, -0.00110972],\n",
       "       [-0.00222544,  0.00218849],\n",
       "       [-0.00987522,  0.00551813],\n",
       "       [-0.01513877, -0.00290121],\n",
       "       [-0.00593353,  0.00122214]])"
      ]
     },
     "execution_count": 157,
     "metadata": {},
     "output_type": "execute_result"
    }
   ],
   "source": [
    "Gama_tr = estimate_gama(Y1, X1, F1)\n",
    "Gama_tr"
   ]
  },
  {
   "cell_type": "code",
   "execution_count": 158,
   "metadata": {},
   "outputs": [],
   "source": [
    "# build a function to predict the synthetic control\n",
    "def compute_syn(X, Gama, F):\n",
    "    N, T, L = X.shape\n",
    "    Y_hat = np.zeros((N, T))\n",
    "    for t in range (T):\n",
    "        for i in range(N):\n",
    "            Y_hat[i, t] = X[i, t, :] @ Gama @ F[:, t]\n",
    "    return Y_hat\n",
    "\n",
    "Y_hat = compute_syn(X1, Gama_tr, F1)"
   ]
  },
  {
   "cell_type": "code",
   "execution_count": 159,
   "metadata": {},
   "outputs": [],
   "source": [
    "resid = null_5.query(\"tr_group==1\").groupby(\"time\").y.mean().to_frame()\n",
    "resid['y1_hat'] = Y_hat.mean(axis=0)\n",
    "resid['residual'] = resid.y - resid['y1_hat']\n",
    "resid['post_period'] = null_5.groupby('time').post_period.min()"
   ]
  },
  {
   "cell_type": "code",
   "execution_count": 160,
   "metadata": {},
   "outputs": [
    {
     "data": {
      "image/png": "[encoded data removed]",
      "text/plain": [
       "<Figure size 670x500 with 2 Axes>"
      ]
     },
     "metadata": {},
     "output_type": "display_data"
    }
   ],
   "source": [
    "fig, ax = plt.subplots(2, 1, figsize=(6.7, 5))\n",
    "sns.lineplot(resid[['y', 'y1_hat']], ax=ax[0])\n",
    "\n",
    "sns.lineplot(resid['residual'], ax=ax[1])\n",
    "ax[1].axhline(y=0, linestyle='--', color='black')\n",
    "ax[0].set(ylabel='Estimated and true outcome', xlabel='')\n",
    "ax[1].set(ylabel='Estimated residual', xlabel='Y0 under H0: 0')\n",
    "\n",
    "for i in range(2):\n",
    "    ax[i].axvline(x=resid.query(\"post_period==0\").index[-1], linestyle='--', color='black')\n",
    "sns.despine()"
   ]
  },
  {
   "cell_type": "markdown",
   "metadata": {},
   "source": [
    "### 5. Test statistic"
   ]
  },
  {
   "cell_type": "markdown",
   "metadata": {},
   "source": [
    "\n",
    "$$\n",
    "S(\\hat{u}) = S_q(\\hat{u}) = \\left( \\frac{1}{\\sqrt{T_*}} \\sum_{t=T_0+1}^{T} |\\hat{u}_t|^q \\right)^{1/q}.\n",
    "$$\n",
    "+ Note that S is constructed such that high values indicate rejection. \n",
    "\n",
    "+ If the intervention has a large but only temporary effect, choose $ q= \\infty $. \n",
    "\n",
    "+ If the inter- vention has a permanent effect, tests using S1 or S2 exhibit good power properties."
   ]
  },
  {
   "cell_type": "code",
   "execution_count": 161,
   "metadata": {},
   "outputs": [],
   "source": [
    "# define a function to compute test statistic\n",
    "def test_statistic(u_hat, q=1, axis=0):\n",
    "    return (np.abs(u_hat) ** q).mean(axis=axis) ** (1/q)"
   ]
  },
  {
   "cell_type": "code",
   "execution_count": 162,
   "metadata": {},
   "outputs": [
    {
     "name": "stdout",
     "output_type": "stream",
     "text": [
      "H0:0  1.025552012282269\n"
     ]
    }
   ],
   "source": [
    "print(\"H0:0 \", test_statistic(resid.query(\"post_period==1\")[\"residual\"]))"
   ]
  },
  {
   "cell_type": "markdown",
   "metadata": {},
   "source": [
    "### 6. P value"
   ]
  },
  {
   "cell_type": "markdown",
   "metadata": {},
   "source": [
    "`P-values`\n",
    "\n",
    "+ We use block permutations to compute p-values. There are two approches:\n",
    "\n",
    "1. The set of all permutations, which we call iid permutations, $\\Pi_{all}$\n",
    "\n",
    "2. The set of all (overlapping) moving block permutations, $\\Pi_{\\rightarrow}$\n",
    "\n",
    "+ The choice of $\\Pi$ does not matter for the exact finite sample validity of our procedures if the residuals are exchangeable.\n",
    "\n",
    "Definition of p-value\n",
    "\n",
    "\\begin{equation*}\n",
    "\\hat{p} = 1 - \\hat{F}(S(\\hat{u})), \\text{ where } \\hat{F}(x) = \\frac{1}{|\\Pi|} \\sum_{\\pi \\in \\Pi} 1\\{S(\\hat{u}_\\pi) < x\\}.\n",
    "\\end{equation*}"
   ]
  },
  {
   "cell_type": "code",
   "execution_count": 163,
   "metadata": {},
   "outputs": [],
   "source": [
    "# build a function to compute p value\n",
    "def compute_pvalue(y, yhat, window):\n",
    "    residual = y - yhat\n",
    "    block_permutations = np.stack([np.roll(residual, permutation, axis=0)[-window:] for permutation in range(len(residual))])\n",
    "\n",
    "    test_stat = test_statistic(block_permutations, q=1, axis=1)\n",
    "    p_val = np.mean(test_stat >= test_stat[0])\n",
    "    return p_val"
   ]
  },
  {
   "cell_type": "code",
   "execution_count": 164,
   "metadata": {},
   "outputs": [
    {
     "name": "stdout",
     "output_type": "stream",
     "text": [
      "Under the null H0:0, the p value is 0.03333333333333333\n"
     ]
    }
   ],
   "source": [
    "p_val = compute_pvalue(resid['y'], resid['y1_hat'], window=10)\n",
    "print(\"Under the null H0:0, the p value is\", p_val)"
   ]
  },
  {
   "cell_type": "code",
   "execution_count": 165,
   "metadata": {},
   "outputs": [],
   "source": [
    "# grid search the p value under different null hypothesis\n",
    "def pval_grid(df, treated, nulls, K, window):\n",
    "    # build a dic to store p value\n",
    "    p_vals = {}\n",
    "    for null in nulls:\n",
    "        # assign the null\n",
    "        null_df = under_null(df, null, treated)\n",
    "\n",
    "        # prepare the matrix for control units\n",
    "        Y, X = _prepare_matrix(null_df[null_df['tr_group']==0], covariates)\n",
    "        # estimate F\n",
    "        F, _ = update_parameter(Y, X, K, verbose=False)\n",
    "\n",
    "        # prepare the matrix for treated units\n",
    "        Y1, X1 = _prepare_matrix(null_df[null_df['tr_group']==1], covariates)\n",
    "        # estimate Gama\n",
    "        Gama = estimate_gama(Y1, X1, F)\n",
    "\n",
    "        # compute synthetic control\n",
    "        Y_hat = compute_syn(X1, Gama, F).mean(axis=0)\n",
    "\n",
    "        # compute residual\n",
    "        Y = null_df[null_df['tr_group']==1].groupby(\"time\").y.mean()\n",
    "        # compute p value\n",
    "        p_val = compute_pvalue(Y, Y_hat, window=window)\n",
    "        p_vals[null] = p_val\n",
    "    return p_vals"
   ]
  },
  {
   "cell_type": "code",
   "execution_count": 166,
   "metadata": {},
   "outputs": [],
   "source": [
    "# specify the null hypothesis\n",
    "nulls = np.linspace(-20, 30, 100)\n",
    "# grid search the p value under different null hypothesis\n",
    "p_vals = pval_grid(df, 'treated', nulls, K, window=10)"
   ]
  },
  {
   "cell_type": "code",
   "execution_count": 167,
   "metadata": {},
   "outputs": [
    {
     "data": {
      "text/html": [
       "<div>\n",
       "<style scoped>\n",
       "    .dataframe tbody tr th:only-of-type {\n",
       "        vertical-align: middle;\n",
       "    }\n",
       "\n",
       "    .dataframe tbody tr th {\n",
       "        vertical-align: top;\n",
       "    }\n",
       "\n",
       "    .dataframe thead th {\n",
       "        text-align: right;\n",
       "    }\n",
       "</style>\n",
       "<table border=\"1\" class=\"dataframe\">\n",
       "  <thead>\n",
       "    <tr style=\"text-align: right;\">\n",
       "      <th></th>\n",
       "      <th>all_period</th>\n",
       "    </tr>\n",
       "  </thead>\n",
       "  <tbody>\n",
       "    <tr>\n",
       "      <th>-20.000000</th>\n",
       "      <td>0.033333</td>\n",
       "    </tr>\n",
       "    <tr>\n",
       "      <th>-19.494949</th>\n",
       "      <td>0.033333</td>\n",
       "    </tr>\n",
       "    <tr>\n",
       "      <th>-18.989899</th>\n",
       "      <td>0.033333</td>\n",
       "    </tr>\n",
       "    <tr>\n",
       "      <th>-18.484848</th>\n",
       "      <td>0.033333</td>\n",
       "    </tr>\n",
       "    <tr>\n",
       "      <th>-17.979798</th>\n",
       "      <td>0.033333</td>\n",
       "    </tr>\n",
       "    <tr>\n",
       "      <th>...</th>\n",
       "      <td>...</td>\n",
       "    </tr>\n",
       "    <tr>\n",
       "      <th>27.979798</th>\n",
       "      <td>0.033333</td>\n",
       "    </tr>\n",
       "    <tr>\n",
       "      <th>28.484848</th>\n",
       "      <td>0.033333</td>\n",
       "    </tr>\n",
       "    <tr>\n",
       "      <th>28.989899</th>\n",
       "      <td>0.033333</td>\n",
       "    </tr>\n",
       "    <tr>\n",
       "      <th>29.494949</th>\n",
       "      <td>0.033333</td>\n",
       "    </tr>\n",
       "    <tr>\n",
       "      <th>30.000000</th>\n",
       "      <td>0.033333</td>\n",
       "    </tr>\n",
       "  </tbody>\n",
       "</table>\n",
       "<p>100 rows × 1 columns</p>\n",
       "</div>"
      ],
      "text/plain": [
       "            all_period\n",
       "-20.000000    0.033333\n",
       "-19.494949    0.033333\n",
       "-18.989899    0.033333\n",
       "-18.484848    0.033333\n",
       "-17.979798    0.033333\n",
       "...                ...\n",
       " 27.979798    0.033333\n",
       " 28.484848    0.033333\n",
       " 28.989899    0.033333\n",
       " 29.494949    0.033333\n",
       " 30.000000    0.033333\n",
       "\n",
       "[100 rows x 1 columns]"
      ]
     },
     "execution_count": 167,
     "metadata": {},
     "output_type": "execute_result"
    }
   ],
   "source": [
    "# convert into dataframe\n",
    "p_vals = pd.DataFrame(p_vals, index=['all_period']).T\n",
    "p_vals"
   ]
  },
  {
   "cell_type": "markdown",
   "metadata": {},
   "source": [
    "### 7. Confidence interval"
   ]
  },
  {
   "cell_type": "code",
   "execution_count": 168,
   "metadata": {},
   "outputs": [],
   "source": [
    "# define a function to compute confidence interval\n",
    "def confidence_interval(p_vals, alpha=0.05):\n",
    "    big_p_vals = p_vals[p_vals.values >= alpha]\n",
    "    return pd.DataFrame({\n",
    "        f\"{int(100-alpha*100)}_ci_lower\": big_p_vals.index.min(),\n",
    "        f\"{int(100-alpha*100)}_ci_upper\": big_p_vals.index.max()\n",
    "    }, index=[p_vals.columns[0]])"
   ]
  },
  {
   "cell_type": "code",
   "execution_count": 169,
   "metadata": {},
   "outputs": [
    {
     "data": {
      "text/html": [
       "<div>\n",
       "<style scoped>\n",
       "    .dataframe tbody tr th:only-of-type {\n",
       "        vertical-align: middle;\n",
       "    }\n",
       "\n",
       "    .dataframe tbody tr th {\n",
       "        vertical-align: top;\n",
       "    }\n",
       "\n",
       "    .dataframe thead th {\n",
       "        text-align: right;\n",
       "    }\n",
       "</style>\n",
       "<table border=\"1\" class=\"dataframe\">\n",
       "  <thead>\n",
       "    <tr style=\"text-align: right;\">\n",
       "      <th></th>\n",
       "      <th>95_ci_lower</th>\n",
       "      <th>95_ci_upper</th>\n",
       "    </tr>\n",
       "  </thead>\n",
       "  <tbody>\n",
       "    <tr>\n",
       "      <th>all_period</th>\n",
       "      <td>0.20202</td>\n",
       "      <td>18.888889</td>\n",
       "    </tr>\n",
       "  </tbody>\n",
       "</table>\n",
       "</div>"
      ],
      "text/plain": [
       "            95_ci_lower  95_ci_upper\n",
       "all_period      0.20202    18.888889"
      ]
     },
     "execution_count": 169,
     "metadata": {},
     "output_type": "execute_result"
    }
   ],
   "source": [
    "confidence_interval(p_vals, 0.05)"
   ]
  },
  {
   "cell_type": "markdown",
   "metadata": {},
   "source": [
    "### 8. Compute confidence interval period by period"
   ]
  },
  {
   "cell_type": "code",
   "execution_count": 170,
   "metadata": {},
   "outputs": [],
   "source": [
    "# define a function to compute the confidence interval period by period\n",
    "def confidence_interval_period(df, period, nulls, alpha):\n",
    "    # append the targeting period to the pre-treatment period\n",
    "    df_aug = df[(df['post_period']==0) | (df['time']==period)]\n",
    "    \n",
    "    # grid search p values under different null hypothesis\n",
    "    p_vals = pval_grid(df_aug, 'treated', nulls, K, window=1) # window = 1 for period by period\n",
    "    # covert into dataframe\n",
    "    p_vals = pd.DataFrame(p_vals, index=[period]).T\n",
    "\n",
    "    # compute confidence interval\n",
    "    ci = confidence_interval(p_vals, alpha=alpha)\n",
    "    return ci"
   ]
  },
  {
   "cell_type": "code",
   "execution_count": 171,
   "metadata": {},
   "outputs": [
    {
     "name": "stdout",
     "output_type": "stream",
     "text": [
      "Evaluating period 2008 is done!\n",
      "Evaluating period 2006 is done!\n",
      "Evaluating period 2002 is done!\n",
      "Evaluating period 2005 is done!\n",
      "Evaluating period 2007 is done!\n",
      "Evaluating period 2001 is done!\n",
      "Evaluating period 2004 is done!\n",
      "Evaluating period 2003 is done!\n",
      "Evaluating period 2009 is done!\n",
      "Evaluating period 2010 is done!\n"
     ]
    }
   ],
   "source": [
    "from joblib import Parallel, delayed\n",
    "\n",
    "# Define a function for parallel processing\n",
    "def process_period(t):\n",
    "    ci = confidence_interval_period(df, t, nulls, 0.05)\n",
    "    print(f'Evaluating period {t} is done!')\n",
    "    return ci\n",
    "\n",
    "# Number of jobs is set to -1 to use all available CPUs\n",
    "# Change this number if you need to limit CPU usage\n",
    "n_jobs = -1  # You can adjust this based on your system's capabilities\n",
    "\n",
    "# Parallel computation\n",
    "ci_df_parallel = Parallel(n_jobs=n_jobs)(delayed(process_period)(t) for t in range(2001, 2010 + 1))\n",
    "\n",
    "# Combine the results into a single DataFrame\n",
    "ci_df = pd.concat(ci_df_parallel, axis=0)"
   ]
  },
  {
   "cell_type": "code",
   "execution_count": 172,
   "metadata": {},
   "outputs": [],
   "source": [
    "from src.CSC_IPCA import CSC_IPCA\n",
    "model = CSC_IPCA()\n",
    "model.fit(df, 'id', 'time', 'y', 'treated', covariates, 2, verbose=False)\n",
    "Y_hat = model.predict()"
   ]
  },
  {
   "cell_type": "code",
   "execution_count": 173,
   "metadata": {},
   "outputs": [
    {
     "data": {
      "text/html": [
       "<div>\n",
       "<style scoped>\n",
       "    .dataframe tbody tr th:only-of-type {\n",
       "        vertical-align: middle;\n",
       "    }\n",
       "\n",
       "    .dataframe tbody tr th {\n",
       "        vertical-align: top;\n",
       "    }\n",
       "\n",
       "    .dataframe thead th {\n",
       "        text-align: right;\n",
       "    }\n",
       "</style>\n",
       "<table border=\"1\" class=\"dataframe\">\n",
       "  <thead>\n",
       "    <tr style=\"text-align: right;\">\n",
       "      <th></th>\n",
       "      <th>95_ci_lower</th>\n",
       "      <th>95_ci_upper</th>\n",
       "      <th>est_att</th>\n",
       "    </tr>\n",
       "  </thead>\n",
       "  <tbody>\n",
       "    <tr>\n",
       "      <th>2001</th>\n",
       "      <td>2.222222</td>\n",
       "      <td>5.252525</td>\n",
       "      <td>3.777770</td>\n",
       "    </tr>\n",
       "    <tr>\n",
       "      <th>2002</th>\n",
       "      <td>-1.313131</td>\n",
       "      <td>2.222222</td>\n",
       "      <td>1.517991</td>\n",
       "    </tr>\n",
       "    <tr>\n",
       "      <th>2003</th>\n",
       "      <td>1.717172</td>\n",
       "      <td>4.747475</td>\n",
       "      <td>2.858053</td>\n",
       "    </tr>\n",
       "    <tr>\n",
       "      <th>2004</th>\n",
       "      <td>2.222222</td>\n",
       "      <td>5.757576</td>\n",
       "      <td>4.282812</td>\n",
       "    </tr>\n",
       "    <tr>\n",
       "      <th>2005</th>\n",
       "      <td>4.747475</td>\n",
       "      <td>7.777778</td>\n",
       "      <td>5.866362</td>\n",
       "    </tr>\n",
       "    <tr>\n",
       "      <th>2006</th>\n",
       "      <td>2.727273</td>\n",
       "      <td>6.262626</td>\n",
       "      <td>4.201003</td>\n",
       "    </tr>\n",
       "    <tr>\n",
       "      <th>2007</th>\n",
       "      <td>4.242424</td>\n",
       "      <td>7.777778</td>\n",
       "      <td>4.801327</td>\n",
       "    </tr>\n",
       "    <tr>\n",
       "      <th>2008</th>\n",
       "      <td>7.777778</td>\n",
       "      <td>13.838384</td>\n",
       "      <td>9.916690</td>\n",
       "    </tr>\n",
       "    <tr>\n",
       "      <th>2009</th>\n",
       "      <td>5.757576</td>\n",
       "      <td>9.292929</td>\n",
       "      <td>8.397857</td>\n",
       "    </tr>\n",
       "    <tr>\n",
       "      <th>2010</th>\n",
       "      <td>7.777778</td>\n",
       "      <td>11.313131</td>\n",
       "      <td>9.806635</td>\n",
       "    </tr>\n",
       "  </tbody>\n",
       "</table>\n",
       "</div>"
      ],
      "text/plain": [
       "      95_ci_lower  95_ci_upper   est_att\n",
       "2001     2.222222     5.252525  3.777770\n",
       "2002    -1.313131     2.222222  1.517991\n",
       "2003     1.717172     4.747475  2.858053\n",
       "2004     2.222222     5.757576  4.282812\n",
       "2005     4.747475     7.777778  5.866362\n",
       "2006     2.727273     6.262626  4.201003\n",
       "2007     4.242424     7.777778  4.801327\n",
       "2008     7.777778    13.838384  9.916690\n",
       "2009     5.757576     9.292929  8.397857\n",
       "2010     7.777778    11.313131  9.806635"
      ]
     },
     "execution_count": 173,
     "metadata": {},
     "output_type": "execute_result"
    }
   ],
   "source": [
    "residual = df.query(\"tr_group==1\").groupby('time').y.mean() - Y_hat.mean(axis=0)\n",
    "ci_df['est_att'] = residual[-T1:]\n",
    "ci_df"
   ]
  },
  {
   "cell_type": "code",
   "execution_count": 175,
   "metadata": {},
   "outputs": [
    {
     "data": {
      "text/plain": [
       "<matplotlib.legend.Legend at 0x149d089b0>"
      ]
     },
     "execution_count": 175,
     "metadata": {},
     "output_type": "execute_result"
    },
    {
     "data": {
      "image/png": "[encoded data removed]",
      "text/plain": [
       "<Figure size 670x250 with 1 Axes>"
      ]
     },
     "metadata": {},
     "output_type": "display_data"
    }
   ],
   "source": [
    "plt.figure(figsize=(6.7, 2.5))\n",
    "\n",
    "sns.lineplot(df.query(\"tr_group==1\").groupby(\"time\").eff.mean(), label='True ATT')\n",
    "sns.lineplot(residual, label='Estimated ATT')\n",
    "\n",
    "yerr = np.abs(ci_df[['95_ci_lower', '95_ci_upper']].subtract(ci_df['est_att'], axis=0)).T.values\n",
    "plt.fill_between(ci_df.index, ci_df[\"95_ci_lower\"], ci_df[\"95_ci_upper\"], alpha=0.2,  color=\"C1\")\n",
    "plt.legend(loc='upper left')"
   ]
  }
 ],
 "metadata": {
  "kernelspec": {
   "display_name": "gsc-ipca-env",
   "language": "python",
   "name": "python3"
  },
  "language_info": {
   "codemirror_mode": {
    "name": "ipython",
    "version": 3
   },
   "file_extension": ".py",
   "mimetype": "text/x-python",
   "name": "python",
   "nbconvert_exporter": "python",
   "pygments_lexer": "ipython3",
   "version": "3.12.1"
  }
 },
 "nbformat": 4,
 "nbformat_minor": 2
}
