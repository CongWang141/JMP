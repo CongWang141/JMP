{
 "cells": [
  {
   "cell_type": "code",
   "execution_count": 302,
   "metadata": {},
   "outputs": [
    {
     "data": {
      "text/html": [
       "<svg  width=\"550\" height=\"55\"><rect x=\"0\" y=\"0\" width=\"55\" height=\"55\" style=\"fill:#1f77b4;stroke-width:2;stroke:rgb(255,255,255)\"/><rect x=\"55\" y=\"0\" width=\"55\" height=\"55\" style=\"fill:#ff7f0e;stroke-width:2;stroke:rgb(255,255,255)\"/><rect x=\"110\" y=\"0\" width=\"55\" height=\"55\" style=\"fill:#2ca02c;stroke-width:2;stroke:rgb(255,255,255)\"/><rect x=\"165\" y=\"0\" width=\"55\" height=\"55\" style=\"fill:#d62728;stroke-width:2;stroke:rgb(255,255,255)\"/><rect x=\"220\" y=\"0\" width=\"55\" height=\"55\" style=\"fill:#9467bd;stroke-width:2;stroke:rgb(255,255,255)\"/><rect x=\"275\" y=\"0\" width=\"55\" height=\"55\" style=\"fill:#8c564b;stroke-width:2;stroke:rgb(255,255,255)\"/><rect x=\"330\" y=\"0\" width=\"55\" height=\"55\" style=\"fill:#e377c2;stroke-width:2;stroke:rgb(255,255,255)\"/><rect x=\"385\" y=\"0\" width=\"55\" height=\"55\" style=\"fill:#7f7f7f;stroke-width:2;stroke:rgb(255,255,255)\"/><rect x=\"440\" y=\"0\" width=\"55\" height=\"55\" style=\"fill:#bcbd22;stroke-width:2;stroke:rgb(255,255,255)\"/><rect x=\"495\" y=\"0\" width=\"55\" height=\"55\" style=\"fill:#17becf;stroke-width:2;stroke:rgb(255,255,255)\"/></svg>"
      ],
      "text/plain": [
       "[(0.12156862745098039, 0.4666666666666667, 0.7058823529411765),\n",
       " (1.0, 0.4980392156862745, 0.054901960784313725),\n",
       " (0.17254901960784313, 0.6274509803921569, 0.17254901960784313),\n",
       " (0.8392156862745098, 0.15294117647058825, 0.1568627450980392),\n",
       " (0.5803921568627451, 0.403921568627451, 0.7411764705882353),\n",
       " (0.5490196078431373, 0.33725490196078434, 0.29411764705882354),\n",
       " (0.8901960784313725, 0.4666666666666667, 0.7607843137254902),\n",
       " (0.4980392156862745, 0.4980392156862745, 0.4980392156862745),\n",
       " (0.7372549019607844, 0.7411764705882353, 0.13333333333333333),\n",
       " (0.09019607843137255, 0.7450980392156863, 0.8117647058823529)]"
      ]
     },
     "execution_count": 302,
     "metadata": {},
     "output_type": "execute_result"
    }
   ],
   "source": [
    "import pandas as pd\n",
    "import numpy as np\n",
    "import scipy.linalg as sla\n",
    "import scipy.sparse.linalg as ssla\n",
    "\n",
    "import matplotlib.pyplot as plt\n",
    "import seaborn as sns\n",
    "from src.data_gen import data_gen\n",
    "\n",
    "# Set the global font to be Times New Roman\n",
    "import matplotlib as mpl\n",
    "mpl.rcParams['font.family'] = 'Times New Roman'\n",
    "mpl.rcParams['font.size'] = 8 \n",
    "colors = sns.color_palette()\n",
    "colors"
   ]
  },
  {
   "cell_type": "code",
   "execution_count": 303,
   "metadata": {},
   "outputs": [],
   "source": [
    "# matrix left/right division (following MATLAB function naming)\n",
    "_mldivide = lambda denom, numer: sla.lstsq(np.array(denom), np.array(numer))[0]\n",
    "_mrdivide = lambda numer, denom: (sla.lstsq(np.array(denom).T, np.array(numer).T)[0]).T"
   ]
  },
  {
   "cell_type": "markdown",
   "metadata": {},
   "source": [
    "### 1. Generate the data"
   ]
  },
  {
   "cell_type": "code",
   "execution_count": 304,
   "metadata": {},
   "outputs": [],
   "source": [
    "# number of time periods and individuals\n",
    "T0, T1 = 20, 10\n",
    "N_co, N_tr = 45, 5\n",
    "\n",
    "# number of covariates and time-varying factors\n",
    "L, K = 10, 2\n",
    "# drift\n",
    "drift = 2\n",
    "\n",
    "df = data_gen(T0=T0, T1=T1, N_co=N_co, N_tr=N_tr, L=L, K=K, drift=drift)"
   ]
  },
  {
   "cell_type": "markdown",
   "metadata": {},
   "source": [
    "### 2. Generate the data under the null"
   ]
  },
  {
   "cell_type": "code",
   "execution_count": 305,
   "metadata": {},
   "outputs": [],
   "source": [
    "# define a function to generate the null\n",
    "def under_null(df, null, treated):\n",
    "    data = df.copy()\n",
    "    y = np.where(data[treated]==1, data['y'] - null, data['y'])\n",
    "    return data.assign(**{'y': y})"
   ]
  },
  {
   "cell_type": "code",
   "execution_count": 306,
   "metadata": {},
   "outputs": [
    {
     "data": {
      "image/png": "[encoded data removed]",
      "text/plain": [
       "<Figure size 670x250 with 1 Axes>"
      ]
     },
     "metadata": {},
     "output_type": "display_data"
    }
   ],
   "source": [
    "# under the null = 0\n",
    "null_0 = under_null(df, 0, 'treated')\n",
    "# under the null = 5\n",
    "null_5 = under_null(df, 5, 'treated')\n",
    "\n",
    "plt.figure(figsize=(6.7, 2.5))\n",
    "# plot the generated data under different null hypothesis\n",
    "sns.lineplot(null_0.query(\"tr_group==1\").groupby('time').y.mean(), label='H0: 0')\n",
    "sns.lineplot(null_5.query(\"tr_group==1\").groupby('time').y.mean(), label='H0: 5')\n",
    "\n",
    "plt.axvline(x=df.query(\"post_period==0\").time.max(), linestyle='--', color='black')\n",
    "sns.despine()"
   ]
  },
  {
   "cell_type": "markdown",
   "metadata": {},
   "source": [
    "### 3. Fit the model use the control dataset"
   ]
  },
  {
   "cell_type": "code",
   "execution_count": 307,
   "metadata": {},
   "outputs": [],
   "source": [
    "# define a function to transform matrix\n",
    "def _prepare_matrix(df, covariates):\n",
    "    Y = df.pivot(index='id', columns='time', values='y').values\n",
    "    X = np.array([df.pivot(index='id', columns='time', values=x) for x in covariates]).transpose(1, 2, 0)\n",
    "    return Y, X"
   ]
  },
  {
   "cell_type": "code",
   "execution_count": 308,
   "metadata": {},
   "outputs": [],
   "source": [
    "# add constant\n",
    "null_5['const'] = 1\n",
    "# gen covariates\n",
    "covariates = ['const'] + [f'x{i+1}' for i in range(L)]\n",
    "\n",
    "# use the control data to compute F and Gama\n",
    "Y, X = _prepare_matrix(null_5.query(\"tr_group==0\"), covariates)"
   ]
  },
  {
   "cell_type": "code",
   "execution_count": 309,
   "metadata": {},
   "outputs": [],
   "source": [
    "# define a function to conduct ALS estimation\n",
    "def als_est(X, Y, K, F0):\n",
    "    N, T, L = X.shape\n",
    "    # with F fixed, estimate Gama\n",
    "    vec_len = L*K\n",
    "    numer, denom = np.zeros(vec_len), np.zeros((vec_len, vec_len))\n",
    "    for t in range(T):\n",
    "        for i in range(N):\n",
    "            # slice X and F\n",
    "            X_slice = X[i, t, :]\n",
    "            F_slice = F0[:, t]\n",
    "            # compute kronecker product\n",
    "            kron_prod = np.kron(X_slice, F_slice)\n",
    "            # update numer and denom\n",
    "            numer += kron_prod * Y[i, t]\n",
    "            denom += np.outer(kron_prod, kron_prod)\n",
    "    # solve for Gama\n",
    "    Gama1 = _mldivide(denom, numer).reshape(L, K)\n",
    "\n",
    "    # with Gama fixed, estimate F\n",
    "    F1 = np.zeros((K, T))\n",
    "    for t in range(T):\n",
    "        denom = Gama1.T@X[:,t,:].T@X[:,t,:]@Gama1\n",
    "        numer = Gama1.T@X[:,t,:].T@Y[:,t]\n",
    "        F1[:, t] = _mldivide(denom, numer)\n",
    "    return Gama1, F1"
   ]
  },
  {
   "cell_type": "code",
   "execution_count": 310,
   "metadata": {},
   "outputs": [],
   "source": [
    "# define a function to compute F and Gama\n",
    "def update_parameter(Y, X, K, MaxIter=100, MinTol=1e-6, verbose=True):\n",
    "    N, T, L = X.shape\n",
    "    # step 1: initial guess\n",
    "    svU, svS, svV = ssla.svds(Y, K)\n",
    "    svU, svS, svV = np.fliplr(svU), svS[::-1], np.flipud(svV)\n",
    "    \n",
    "    # initial guess for F\n",
    "    F0 = np.diag(svS) @ svV\n",
    "    # initial guess for Gama\n",
    "    Gama0 = np.zeros((L, K))\n",
    "\n",
    "    # iteratively update F and Gama\n",
    "    tol, iter = float('inf'), 0\n",
    "    while tol > MinTol and iter < MaxIter:\n",
    "        Gama1, F1 = als_est(X, Y, K, F0)\n",
    "        tol_Gama = abs(Gama1 - Gama0).max()\n",
    "        tol_F = abs(F1 - F0).max() \n",
    "        tol = max(tol_Gama, tol_F)\n",
    "        if verbose:\n",
    "            print(f'iter: {iter}, tol_Gama: {tol_Gama}, tol_F: {tol_F}')\n",
    "        F0, Gama0 = F1, Gama1\n",
    "        iter += 1\n",
    "    return F1, Gama1"
   ]
  },
  {
   "cell_type": "code",
   "execution_count": 311,
   "metadata": {},
   "outputs": [
    {
     "name": "stdout",
     "output_type": "stream",
     "text": [
      "iter: 0, tol_Gama: 0.08549601254358268, tol_F: 33.773441484225486\n",
      "iter: 1, tol_Gama: 0.005790613498807981, tol_F: 40.02835686491073\n",
      "iter: 2, tol_Gama: 0.003382616401786033, tol_F: 12.745151513875065\n",
      "iter: 3, tol_Gama: 0.002003749239587453, tol_F: 9.969330788060454\n",
      "iter: 4, tol_Gama: 0.0012732749587063275, tol_F: 14.376131533354126\n",
      "iter: 5, tol_Gama: 0.0013857428672072875, tol_F: 18.264193287080253\n",
      "iter: 6, tol_Gama: 0.0017780174403643628, tol_F: 24.647071978847276\n",
      "iter: 7, tol_Gama: 0.0023488309114026856, tol_F: 26.20886633849158\n",
      "iter: 8, tol_Gama: 0.002028747963908853, tol_F: 13.585417333316094\n",
      "iter: 9, tol_Gama: 0.0009394621504500433, tol_F: 4.090973875713324\n",
      "iter: 10, tol_Gama: 0.0003523495656224396, tol_F: 1.3064539671047015\n",
      "iter: 11, tol_Gama: 0.00014649518364247271, tol_F: 0.5336815175403871\n",
      "iter: 12, tol_Gama: 7.104509482033783e-05, tol_F: 0.2922909474964328\n",
      "iter: 13, tol_Gama: 3.8788764175720636e-05, tol_F: 0.1878641731118229\n",
      "iter: 14, tol_Gama: 2.280303366800074e-05, tol_F: 0.12050822238098746\n",
      "iter: 15, tol_Gama: 1.4504434258289303e-05, tol_F: 0.07728430308893763\n",
      "iter: 16, tol_Gama: 9.28651882665596e-06, tol_F: 0.049578585151621724\n",
      "iter: 17, tol_Gama: 5.95230401772423e-06, tol_F: 0.031817114109163214\n",
      "iter: 18, tol_Gama: 3.818164855328224e-06, tol_F: 0.020425258595537343\n",
      "iter: 19, tol_Gama: 2.450490892346932e-06, tol_F: 0.013115335222554592\n",
      "iter: 20, tol_Gama: 1.573270921617978e-06, tol_F: 0.008422970019932308\n",
      "iter: 21, tol_Gama: 1.0103076694446822e-06, tol_F: 0.005410053302657758\n",
      "iter: 22, tol_Gama: 6.488864339303929e-07, tol_F: 0.0034751336090792506\n",
      "iter: 23, tol_Gama: 4.167981641559071e-07, tol_F: 0.002232357137536667\n",
      "iter: 24, tol_Gama: 2.6773803469062885e-07, tol_F: 0.0014340700646471305\n",
      "iter: 25, tol_Gama: 1.7199343329762917e-07, tol_F: 0.0009212691240101378\n",
      "iter: 26, tol_Gama: 1.1049050154324225e-07, tol_F: 0.0005918461005975928\n",
      "iter: 27, tol_Gama: 7.098151850667977e-08, tol_F: 0.00038022005872662135\n",
      "iter: 28, tol_Gama: 4.5600572875018064e-08, tol_F: 0.0002442664496449254\n",
      "iter: 29, tol_Gama: 2.929532470774543e-08, tol_F: 0.00015692576805648173\n",
      "iter: 30, tol_Gama: 1.8820374482822477e-08, tol_F: 0.00010081514171389472\n",
      "iter: 31, tol_Gama: 1.2090922794222303e-08, tol_F: 6.476762145979365e-05\n",
      "iter: 32, tol_Gama: 7.767681997616904e-09, tol_F: 4.160931580088345e-05\n",
      "iter: 33, tol_Gama: 4.990268750310056e-09, tol_F: 2.673151005083696e-05\n",
      "iter: 34, tol_Gama: 3.2059500817971376e-09, tol_F: 1.717341184459542e-05\n",
      "iter: 35, tol_Gama: 2.0596328913213835e-09, tol_F: 1.1032902897056829e-05\n",
      "iter: 36, tol_Gama: 1.3231923074591423e-09, tol_F: 7.087989935428141e-06\n",
      "iter: 37, tol_Gama: 8.500730588195671e-10, tol_F: 4.5536160371284495e-06\n",
      "iter: 38, tol_Gama: 5.461218317848182e-10, tol_F: 2.9254302589265535e-06\n",
      "iter: 39, tol_Gama: 3.50851091235338e-10, tol_F: 1.879416661410005e-06\n",
      "iter: 40, tol_Gama: 2.2540128791215253e-10, tol_F: 1.2074153268315513e-06\n",
      "iter: 41, tol_Gama: 1.448070292148218e-10, tol_F: 7.756921363011315e-07\n"
     ]
    }
   ],
   "source": [
    "# compute F and Gama with \n",
    "F1, Gama1 = update_parameter(Y, X, K, verbose=True)"
   ]
  },
  {
   "cell_type": "markdown",
   "metadata": {},
   "source": [
    "### 4. Predict the treated units for whole time period (Main difference with estimation)"
   ]
  },
  {
   "cell_type": "code",
   "execution_count": 312,
   "metadata": {},
   "outputs": [],
   "source": [
    "# gen Y, X for treated units all period\n",
    "Y1, X1 = _prepare_matrix(null_5.query(\"tr_group==1\"), covariates)"
   ]
  },
  {
   "cell_type": "code",
   "execution_count": 313,
   "metadata": {},
   "outputs": [],
   "source": [
    "# define a function to compute Gama for treated units\n",
    "def estimate_gama(Y, X, F1):\n",
    "    N, T, L = X.shape\n",
    "    # with F fixed, estimate Gama\n",
    "    vec_len = L*K\n",
    "    numer, denom = np.zeros(vec_len), np.zeros((vec_len, vec_len))\n",
    "    for t in range(T):\n",
    "        for i in range(N):\n",
    "            X_slice = X[i, t, :]\n",
    "            F_slice = F1[:, t]\n",
    "            kron_prod = np.kron(X_slice, F_slice)\n",
    "            # update numer and denom\n",
    "            numer += kron_prod * Y[i, t]\n",
    "            denom += np.outer(kron_prod, kron_prod)\n",
    "    # solve for Gama\n",
    "    Gama1 = _mldivide(denom, numer).reshape(L, K)\n",
    "    return Gama1"
   ]
  },
  {
   "cell_type": "code",
   "execution_count": 314,
   "metadata": {},
   "outputs": [
    {
     "data": {
      "text/plain": [
       "array([[-0.01179235,  0.13736124],\n",
       "       [-0.00442678,  0.01730267],\n",
       "       [-0.00882583,  0.05835352],\n",
       "       [-0.01175996,  0.04050768],\n",
       "       [-0.01394936,  0.0517624 ],\n",
       "       [-0.00687298,  0.05926226],\n",
       "       [-0.02095129,  0.05080155],\n",
       "       [-0.00194423,  0.03008847],\n",
       "       [-0.01420499,  0.06677223],\n",
       "       [ 0.00230741,  0.01440588],\n",
       "       [-0.00763962,  0.0338708 ]])"
      ]
     },
     "execution_count": 314,
     "metadata": {},
     "output_type": "execute_result"
    }
   ],
   "source": [
    "Gama_tr = estimate_gama(Y1, X1, F1)\n",
    "Gama_tr"
   ]
  },
  {
   "cell_type": "code",
   "execution_count": 315,
   "metadata": {},
   "outputs": [],
   "source": [
    "# predict Y1_hat for the whole period\n",
    "N, T, L = X1.shape\n",
    "Y1_hat = np.zeros((N, T))\n",
    "for t in range (T):\n",
    "    for i in range(N):\n",
    "        Y1_hat[i, t] = X1[i, t, :] @ Gama_tr @ F1[:, t]"
   ]
  },
  {
   "cell_type": "code",
   "execution_count": 316,
   "metadata": {},
   "outputs": [],
   "source": [
    "resid = null_5.query(\"tr_group==1\").groupby(\"time\").y.mean().to_frame()\n",
    "resid['y1_hat'] = Y1_hat.mean(axis=0)\n",
    "resid['residual'] = resid.y - resid['y1_hat']\n",
    "resid['post_period'] = null_5.groupby('time').post_period.min()"
   ]
  },
  {
   "cell_type": "code",
   "execution_count": 317,
   "metadata": {},
   "outputs": [
    {
     "data": {
      "image/png": "[encoded data removed]",
      "text/plain": [
       "<Figure size 670x500 with 2 Axes>"
      ]
     },
     "metadata": {},
     "output_type": "display_data"
    }
   ],
   "source": [
    "fig, ax = plt.subplots(2, 1, figsize=(6.7, 5))\n",
    "sns.lineplot(resid[['y', 'y1_hat']], ax=ax[0])\n",
    "\n",
    "sns.lineplot(resid['residual'], ax=ax[1])\n",
    "ax[1].axhline(y=0, linestyle='--', color='black')\n",
    "ax[0].set(ylabel='Estimated and true outcome', xlabel='')\n",
    "ax[1].set(ylabel='Estimated residual', xlabel='Y0 under H0: 0')\n",
    "\n",
    "for i in range(2):\n",
    "    ax[i].axvline(x=resid.query(\"post_period==0\").index[-1], linestyle='--', color='black')\n",
    "sns.despine()"
   ]
  },
  {
   "cell_type": "code",
   "execution_count": 318,
   "metadata": {},
   "outputs": [],
   "source": [
    "# define a function to combine all the above steps\n",
    "def compute_residual(df, K, verbose=True):\n",
    "    # prepare matrix with all data\n",
    "    Y, X = _prepare_matrix(df.query(\"tr_group==0\"), covariates)\n",
    "    F1, Gama1 = update_parameter(Y, X, K, verbose=verbose)\n",
    "    # prepare matrix with treated data\n",
    "    Y1, X1 = _prepare_matrix(df.query(\"tr_group==1\"), covariates)\n",
    "    # update Gama for treated units\n",
    "    Gama_tr = estimate_gama(Y1, X1, F1)\n",
    "\n",
    "    # predict Y1_hat for the whole period\n",
    "    N, T, L = X1.shape\n",
    "    Y1_hat = np.zeros((N, T))\n",
    "    for i in range(N):\n",
    "        for t in range(T):\n",
    "            Y1_hat[i, t] = X1[i, t, :] @ Gama_tr @ F1[:, t]\n",
    "    \n",
    "    # compute residual\n",
    "    resid = df.query(\"tr_group==1\").groupby(\"time\").y.mean().to_frame()\n",
    "    resid['y1_hat'] = Y1_hat.mean(axis=0)\n",
    "    resid['residual'] = resid.y - resid['y1_hat']\n",
    "    resid['post_period'] = df.groupby('time').post_period.min()\n",
    "    return resid"
   ]
  },
  {
   "cell_type": "code",
   "execution_count": 319,
   "metadata": {},
   "outputs": [
    {
     "data": {
      "text/plain": [
       "True"
      ]
     },
     "execution_count": 319,
     "metadata": {},
     "output_type": "execute_result"
    }
   ],
   "source": [
    "# compute residual under H0: 0\n",
    "x = compute_residual(null_5, K, verbose=False)\n",
    "# check if it is the same as the previous result\n",
    "np.allclose(x['residual'], resid['residual'])"
   ]
  },
  {
   "cell_type": "markdown",
   "metadata": {},
   "source": [
    "### 5. Test statistic"
   ]
  },
  {
   "cell_type": "markdown",
   "metadata": {},
   "source": [
    "\n",
    "$$\n",
    "S(\\hat{u}) = S_q(\\hat{u}) = \\left( \\frac{1}{\\sqrt{T_*}} \\sum_{t=T_0+1}^{T} |\\hat{u}_t|^q \\right)^{1/q}.\n",
    "$$\n",
    "+ Note that S is constructed such that high values indicate rejection. \n",
    "\n",
    "+ If the intervention has a large but only temporary effect, choose $ q= \\infty $. \n",
    "\n",
    "+ If the inter- vention has a permanent effect, tests using S1 or S2 exhibit good power properties."
   ]
  },
  {
   "cell_type": "code",
   "execution_count": 320,
   "metadata": {},
   "outputs": [],
   "source": [
    "# define a function to compute test statistic\n",
    "def test_statistic(u_hat, q=1, axis=0):\n",
    "    return (np.abs(u_hat) ** q).mean(axis=axis) ** (1/q)"
   ]
  },
  {
   "cell_type": "code",
   "execution_count": 321,
   "metadata": {},
   "outputs": [
    {
     "name": "stdout",
     "output_type": "stream",
     "text": [
      "H0:0  1.7296124393682326\n"
     ]
    }
   ],
   "source": [
    "print(\"H0:0 \", test_statistic(resid.query(\"post_period==1\")[\"residual\"]))"
   ]
  },
  {
   "cell_type": "markdown",
   "metadata": {},
   "source": [
    "### 6. P value"
   ]
  },
  {
   "cell_type": "markdown",
   "metadata": {},
   "source": [
    "`P-values`\n",
    "\n",
    "+ We use block permutations to compute p-values. There are two approches:\n",
    "\n",
    "1. The set of all permutations, which we call iid permutations, $\\Pi_{all}$\n",
    "\n",
    "2. The set of all (overlapping) moving block permutations, $\\Pi_{\\rightarrow}$\n",
    "\n",
    "+ The choice of $\\Pi$ does not matter for the exact finite sample validity of our procedures if the residuals are exchangeable.\n",
    "\n",
    "Definition of p-value\n",
    "\n",
    "\\begin{equation*}\n",
    "\\hat{p} = 1 - \\hat{F}(S(\\hat{u})), \\text{ where } \\hat{F}(x) = \\frac{1}{|\\Pi|} \\sum_{\\pi \\in \\Pi} 1\\{S(\\hat{u}_\\pi) < x\\}.\n",
    "\\end{equation*}"
   ]
  },
  {
   "cell_type": "code",
   "execution_count": 322,
   "metadata": {},
   "outputs": [
    {
     "name": "stdout",
     "output_type": "stream",
     "text": [
      "Under the null H0:0, the p value is 0.03333333333333333\n"
     ]
    }
   ],
   "source": [
    "u = resid[\"residual\"].values\n",
    "    \n",
    "block_permutations = np.stack([np.roll(u, permutation, axis=0)[resid.post_period==1]\n",
    "                                   for permutation in range(len(u))])\n",
    "statistics = test_statistic(block_permutations, q=1, axis=1)\n",
    "\n",
    "p_val = np.mean(statistics >= statistics[0])\n",
    "print(\"Under the null H0:0, the p value is\", p_val)"
   ]
  },
  {
   "cell_type": "code",
   "execution_count": 300,
   "metadata": {},
   "outputs": [],
   "source": [
    "# add a const to the original data\n",
    "df['const'] = 1\n",
    "\n",
    "# grid search the p value under difference null hypothesis\n",
    "nulls = np.linspace(-50, 50, 100)\n",
    "p_vals = {}\n",
    "for null in nulls:\n",
    "    # build the data under the null\n",
    "    null_df = under_null(df, null, 'treated')\n",
    "    # compute residual\n",
    "    resid = compute_residual(null_df, K=2, verbose=False )\n",
    "    u = resid['residual'].values\n",
    "\n",
    "    # block permutation\n",
    "    block_permutations = np.stack([np.roll(u, permutation, axis=0)[resid.post_period==1] for permutation in range(len(u))])\n",
    "    # compute test statistic\n",
    "    stat = test_statistic(block_permutations, q=1, axis=1)\n",
    "    # compute p value\n",
    "    p_val = np.mean(stat >= stat[0])\n",
    "\n",
    "    # store the result\n",
    "    p_vals[null] = p_val"
   ]
  },
  {
   "cell_type": "code",
   "execution_count": 301,
   "metadata": {},
   "outputs": [
    {
     "data": {
      "text/html": [
       "<div>\n",
       "<style scoped>\n",
       "    .dataframe tbody tr th:only-of-type {\n",
       "        vertical-align: middle;\n",
       "    }\n",
       "\n",
       "    .dataframe tbody tr th {\n",
       "        vertical-align: top;\n",
       "    }\n",
       "\n",
       "    .dataframe thead th {\n",
       "        text-align: right;\n",
       "    }\n",
       "</style>\n",
       "<table border=\"1\" class=\"dataframe\">\n",
       "  <thead>\n",
       "    <tr style=\"text-align: right;\">\n",
       "      <th></th>\n",
       "      <th>all</th>\n",
       "    </tr>\n",
       "  </thead>\n",
       "  <tbody>\n",
       "    <tr>\n",
       "      <th>-50.000000</th>\n",
       "      <td>0.033333</td>\n",
       "    </tr>\n",
       "    <tr>\n",
       "      <th>-48.989899</th>\n",
       "      <td>0.033333</td>\n",
       "    </tr>\n",
       "    <tr>\n",
       "      <th>-47.979798</th>\n",
       "      <td>0.033333</td>\n",
       "    </tr>\n",
       "    <tr>\n",
       "      <th>-46.969697</th>\n",
       "      <td>0.033333</td>\n",
       "    </tr>\n",
       "    <tr>\n",
       "      <th>-45.959596</th>\n",
       "      <td>0.033333</td>\n",
       "    </tr>\n",
       "    <tr>\n",
       "      <th>...</th>\n",
       "      <td>...</td>\n",
       "    </tr>\n",
       "    <tr>\n",
       "      <th>45.959596</th>\n",
       "      <td>0.033333</td>\n",
       "    </tr>\n",
       "    <tr>\n",
       "      <th>46.969697</th>\n",
       "      <td>0.033333</td>\n",
       "    </tr>\n",
       "    <tr>\n",
       "      <th>47.979798</th>\n",
       "      <td>0.033333</td>\n",
       "    </tr>\n",
       "    <tr>\n",
       "      <th>48.989899</th>\n",
       "      <td>0.033333</td>\n",
       "    </tr>\n",
       "    <tr>\n",
       "      <th>50.000000</th>\n",
       "      <td>0.033333</td>\n",
       "    </tr>\n",
       "  </tbody>\n",
       "</table>\n",
       "<p>100 rows × 1 columns</p>\n",
       "</div>"
      ],
      "text/plain": [
       "                 all\n",
       "-50.000000  0.033333\n",
       "-48.989899  0.033333\n",
       "-47.979798  0.033333\n",
       "-46.969697  0.033333\n",
       "-45.959596  0.033333\n",
       "...              ...\n",
       " 45.959596  0.033333\n",
       " 46.969697  0.033333\n",
       " 47.979798  0.033333\n",
       " 48.989899  0.033333\n",
       " 50.000000  0.033333\n",
       "\n",
       "[100 rows x 1 columns]"
      ]
     },
     "execution_count": 301,
     "metadata": {},
     "output_type": "execute_result"
    }
   ],
   "source": [
    "p_vals = pd.DataFrame(p_vals, index=['all']).T\n",
    "p_vals"
   ]
  },
  {
   "cell_type": "markdown",
   "metadata": {},
   "source": [
    "### 7. Confidence interval"
   ]
  },
  {
   "cell_type": "code",
   "execution_count": 323,
   "metadata": {},
   "outputs": [],
   "source": [
    "# define a function to compute confidence interval\n",
    "def confidence_interval(p_vals, alpha=0.1):\n",
    "    big_p_vals = p_vals[p_vals.values >= alpha]\n",
    "    return pd.DataFrame({\n",
    "        f\"{int(100-alpha*100)}_ci_lower\": big_p_vals.index.min(),\n",
    "        f\"{int(100-alpha*100)}_ci_upper\": big_p_vals.index.max()\n",
    "    }, index=[p_vals.columns[0]])"
   ]
  },
  {
   "cell_type": "code",
   "execution_count": 324,
   "metadata": {},
   "outputs": [
    {
     "data": {
      "text/html": [
       "<div>\n",
       "<style scoped>\n",
       "    .dataframe tbody tr th:only-of-type {\n",
       "        vertical-align: middle;\n",
       "    }\n",
       "\n",
       "    .dataframe tbody tr th {\n",
       "        vertical-align: top;\n",
       "    }\n",
       "\n",
       "    .dataframe thead th {\n",
       "        text-align: right;\n",
       "    }\n",
       "</style>\n",
       "<table border=\"1\" class=\"dataframe\">\n",
       "  <thead>\n",
       "    <tr style=\"text-align: right;\">\n",
       "      <th></th>\n",
       "      <th>90_ci_lower</th>\n",
       "      <th>90_ci_upper</th>\n",
       "    </tr>\n",
       "  </thead>\n",
       "  <tbody>\n",
       "    <tr>\n",
       "      <th>all</th>\n",
       "      <td>-7.575758</td>\n",
       "      <td>16.666667</td>\n",
       "    </tr>\n",
       "  </tbody>\n",
       "</table>\n",
       "</div>"
      ],
      "text/plain": [
       "     90_ci_lower  90_ci_upper\n",
       "all    -7.575758    16.666667"
      ]
     },
     "execution_count": 324,
     "metadata": {},
     "output_type": "execute_result"
    }
   ],
   "source": [
    "confidence_interval(p_vals, 0.1)"
   ]
  },
  {
   "cell_type": "markdown",
   "metadata": {},
   "source": [
    "### 8. Compute confidence interval for each period"
   ]
  },
  {
   "cell_type": "code",
   "execution_count": 325,
   "metadata": {},
   "outputs": [],
   "source": [
    "def period_pval(df, period, nulls):\n",
    "    # only choose the target period and pre intervention period\n",
    "    df_aug = df[(df.post_period==0) | (df.time==period)]\n",
    "\n",
    "    p_vals = {}\n",
    "    for null in nulls:\n",
    "        # buidl the data under the null\n",
    "        null_df = under_null(df_aug, null, 'treated')\n",
    "        # compute the residual\n",
    "        resid = compute_residual(null_df, K=2, verbose=False)\n",
    "        u = resid['residual'].values\n",
    "\n",
    "        # block permutation\n",
    "        block_permutations = np.stack([np.roll(u, permutation, axis=0)[resid.post_period==1] for permutation in range(len(u))])\n",
    "        # compute test statistic\n",
    "        stat = test_statistic(block_permutations, q=1, axis=1)\n",
    "        # compute p value\n",
    "        p_val = np.mean(stat >= stat[0])\n",
    "        p_vals[null] = p_val\n",
    "    return pd.DataFrame(p_vals, index=[period]).T"
   ]
  },
  {
   "cell_type": "code",
   "execution_count": 326,
   "metadata": {},
   "outputs": [],
   "source": [
    "start_tr = df.query(\"post_period==1\").time.min()\n",
    "end_tr = df.query(\"post_period==1\").time.max()"
   ]
  },
  {
   "cell_type": "code",
   "execution_count": 328,
   "metadata": {},
   "outputs": [
    {
     "name": "stdout",
     "output_type": "stream",
     "text": [
      "2001\n",
      "2002\n",
      "2003\n",
      "2004\n",
      "2005\n",
      "2006\n",
      "2007\n",
      "2008\n",
      "2009\n",
      "2010\n"
     ]
    }
   ],
   "source": [
    "df['const'] = 1\n",
    "ci_df = pd.DataFrame()\n",
    "nulls = np.linspace(-10, 50, 100)\n",
    "for t in range(start_tr, end_tr+1):\n",
    "    p_vals = period_pval(df, t, nulls)\n",
    "    ci = confidence_interval(p_vals, 0.1)\n",
    "    ci_df = pd.concat([ci_df, ci], axis=0)\n",
    "    print(t)"
   ]
  },
  {
   "cell_type": "code",
   "execution_count": 329,
   "metadata": {},
   "outputs": [],
   "source": [
    "from src.csc_ipca import gsc_ipca\n",
    "# issue the model\n",
    "model = gsc_ipca()\n",
    "# use control data to fit the model\n",
    "df_con = df.query(\"tr_group==0\")\n",
    "model.fit(df_con, 'id', 'time', 'y', covariates, 2, verbose=False)\n",
    "# predict treated data\n",
    "df_tr = df.query(\"tr_group==1\")\n",
    "Y_synth = model.predict(df_tr, 'id', 'time', 'y', covariates, 2, 'treated')"
   ]
  },
  {
   "cell_type": "code",
   "execution_count": 330,
   "metadata": {},
   "outputs": [
    {
     "data": {
      "text/html": [
       "<div>\n",
       "<style scoped>\n",
       "    .dataframe tbody tr th:only-of-type {\n",
       "        vertical-align: middle;\n",
       "    }\n",
       "\n",
       "    .dataframe tbody tr th {\n",
       "        vertical-align: top;\n",
       "    }\n",
       "\n",
       "    .dataframe thead th {\n",
       "        text-align: right;\n",
       "    }\n",
       "</style>\n",
       "<table border=\"1\" class=\"dataframe\">\n",
       "  <thead>\n",
       "    <tr style=\"text-align: right;\">\n",
       "      <th></th>\n",
       "      <th>90_ci_lower</th>\n",
       "      <th>90_ci_upper</th>\n",
       "      <th>est_att</th>\n",
       "    </tr>\n",
       "  </thead>\n",
       "  <tbody>\n",
       "    <tr>\n",
       "      <th>2001</th>\n",
       "      <td>-0.303030</td>\n",
       "      <td>2.121212</td>\n",
       "      <td>0.949757</td>\n",
       "    </tr>\n",
       "    <tr>\n",
       "      <th>2002</th>\n",
       "      <td>0.303030</td>\n",
       "      <td>2.727273</td>\n",
       "      <td>1.575376</td>\n",
       "    </tr>\n",
       "    <tr>\n",
       "      <th>2003</th>\n",
       "      <td>3.333333</td>\n",
       "      <td>5.757576</td>\n",
       "      <td>4.464113</td>\n",
       "    </tr>\n",
       "    <tr>\n",
       "      <th>2004</th>\n",
       "      <td>3.333333</td>\n",
       "      <td>5.757576</td>\n",
       "      <td>4.659729</td>\n",
       "    </tr>\n",
       "    <tr>\n",
       "      <th>2005</th>\n",
       "      <td>2.727273</td>\n",
       "      <td>5.757576</td>\n",
       "      <td>4.465837</td>\n",
       "    </tr>\n",
       "    <tr>\n",
       "      <th>2006</th>\n",
       "      <td>2.727273</td>\n",
       "      <td>5.151515</td>\n",
       "      <td>3.818479</td>\n",
       "    </tr>\n",
       "    <tr>\n",
       "      <th>2007</th>\n",
       "      <td>6.363636</td>\n",
       "      <td>8.787879</td>\n",
       "      <td>7.500285</td>\n",
       "    </tr>\n",
       "    <tr>\n",
       "      <th>2008</th>\n",
       "      <td>5.151515</td>\n",
       "      <td>6.969697</td>\n",
       "      <td>5.957568</td>\n",
       "    </tr>\n",
       "    <tr>\n",
       "      <th>2009</th>\n",
       "      <td>4.545455</td>\n",
       "      <td>8.787879</td>\n",
       "      <td>7.077516</td>\n",
       "    </tr>\n",
       "    <tr>\n",
       "      <th>2010</th>\n",
       "      <td>9.393939</td>\n",
       "      <td>11.818182</td>\n",
       "      <td>10.901581</td>\n",
       "    </tr>\n",
       "  </tbody>\n",
       "</table>\n",
       "</div>"
      ],
      "text/plain": [
       "      90_ci_lower  90_ci_upper    est_att\n",
       "2001    -0.303030     2.121212   0.949757\n",
       "2002     0.303030     2.727273   1.575376\n",
       "2003     3.333333     5.757576   4.464113\n",
       "2004     3.333333     5.757576   4.659729\n",
       "2005     2.727273     5.757576   4.465837\n",
       "2006     2.727273     5.151515   3.818479\n",
       "2007     6.363636     8.787879   7.500285\n",
       "2008     5.151515     6.969697   5.957568\n",
       "2009     4.545455     8.787879   7.077516\n",
       "2010     9.393939    11.818182  10.901581"
      ]
     },
     "execution_count": 330,
     "metadata": {},
     "output_type": "execute_result"
    }
   ],
   "source": [
    "residual = df.query(\"tr_group==1\").groupby('time').y.mean() - Y_synth.mean(axis=0)\n",
    "ci_df['est_att'] = residual[-T1:]\n",
    "ci_df"
   ]
  },
  {
   "cell_type": "code",
   "execution_count": 334,
   "metadata": {},
   "outputs": [
    {
     "data": {
      "text/plain": [
       "<ErrorbarContainer object of 3 artists>"
      ]
     },
     "execution_count": 334,
     "metadata": {},
     "output_type": "execute_result"
    },
    {
     "data": {
      "image/png": "[encoded data removed]",
      "text/plain": [
       "<Figure size 670x250 with 1 Axes>"
      ]
     },
     "metadata": {},
     "output_type": "display_data"
    }
   ],
   "source": [
    "plt.figure(figsize=(6.7, 2.5))\n",
    "\n",
    "sns.lineplot(residual, label='Estimated ATT')\n",
    "\n",
    "yerr = np.abs(ci_df[['90_ci_lower', '90_ci_upper']].subtract(ci_df['est_att'], axis=0)).T.values\n",
    "# Plot error bars for the last T1 periods\n",
    "plt.errorbar(x=residual.index[-T1:], y=residual[-T1:], yerr=yerr[:, -T1:], capsize=2, capthick=1, elinewidth=1)\n"
   ]
  },
  {
   "cell_type": "code",
   "execution_count": 339,
   "metadata": {},
   "outputs": [
    {
     "data": {
      "text/plain": [
       "<matplotlib.collections.PolyCollection at 0x15c020ad0>"
      ]
     },
     "execution_count": 339,
     "metadata": {},
     "output_type": "execute_result"
    },
    {
     "data": {
      "image/png": "[encoded data removed]",
      "text/plain": [
       "<Figure size 670x250 with 1 Axes>"
      ]
     },
     "metadata": {},
     "output_type": "display_data"
    }
   ],
   "source": [
    "plt.figure(figsize=(6.7, 2.5))\n",
    "\n",
    "sns.lineplot(df.query(\"tr_group==1\").groupby(\"time\").eff.mean())\n",
    "sns.lineplot(residual, label='Estimated ATT')\n",
    "\n",
    "yerr = np.abs(ci_df[['90_ci_lower', '90_ci_upper']].subtract(ci_df['est_att'], axis=0)).T.values\n",
    "\n",
    "plt.fill_between(ci_df.index, ci_df[\"90_ci_lower\"], ci_df[\"90_ci_upper\"], alpha=0.2,  color=\"C1\")\n"
   ]
  }
 ],
 "metadata": {
  "kernelspec": {
   "display_name": "gsc-ipca-env",
   "language": "python",
   "name": "python3"
  },
  "language_info": {
   "codemirror_mode": {
    "name": "ipython",
    "version": 3
   },
   "file_extension": ".py",
   "mimetype": "text/x-python",
   "name": "python",
   "nbconvert_exporter": "python",
   "pygments_lexer": "ipython3",
   "version": "3.12.1"
  }
 },
 "nbformat": 4,
 "nbformat_minor": 2
}
